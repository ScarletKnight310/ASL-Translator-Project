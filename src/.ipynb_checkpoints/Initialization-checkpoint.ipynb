{
 "cells": [
  {
   "cell_type": "markdown",
   "id": "f21fb005",
   "metadata": {},
   "source": [
    "Tensorflow 2.8.0 / Install core with GPU support (also 2.8.0) / pure windows / https://www.tensorflow.org/install/source_windows / make sure to install other depencies nessary for Tensorflow to work / if only using Tensorflow CPU ignore GPU requirements"
   ]
  },
  {
   "cell_type": "code",
   "execution_count": null,
   "id": "93cf7dfd",
   "metadata": {},
   "outputs": [],
   "source": [
    "!pip install tensorflow==2.8.0 tensorflow-gpu==2.8.0 opencv-python mediapipe sklearn matplotlib"
   ]
  }
 ],
 "metadata": {
  "kernelspec": {
   "display_name": "ASLTRenv",
   "language": "python",
   "name": "asltrenv"
  },
  "language_info": {
   "codemirror_mode": {
    "name": "ipython",
    "version": 3
   },
   "file_extension": ".py",
   "mimetype": "text/x-python",
   "name": "python",
   "nbconvert_exporter": "python",
   "pygments_lexer": "ipython3",
   "version": "3.9.5"
  }
 },
 "nbformat": 4,
 "nbformat_minor": 5
}
