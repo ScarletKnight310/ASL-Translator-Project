{
 "cells": [
  {
   "cell_type": "markdown",
   "id": "f21fb005",
   "metadata": {},
   "source": [
    "Tensorflow 2.8.0 / Install core with GPU support (also 2.8.0) / pure windows / https://www.tensorflow.org/install/source_windows / make sure to install other depencies nessary for Tensorflow to work / if only using Tensorflow CPU ignore GPU requirements"
   ]
  },
  {
   "cell_type": "code",
   "execution_count": 1,
   "id": "93cf7dfd",
   "metadata": {},
   "outputs": [
    {
     "name": "stdout",
     "output_type": "stream",
     "text": [
      "Collecting tensorflow==2.8.0\n",
      "  Using cached tensorflow-2.8.0-cp39-cp39-win_amd64.whl (438.0 MB)\n",
      "Collecting tensorflow-gpu==2.8.0\n",
      "  Using cached tensorflow_gpu-2.8.0-cp39-cp39-win_amd64.whl (438.0 MB)\n",
      "Requirement already satisfied: opencv-python in c:\\python39\\lib\\site-packages (4.5.5.64)\n",
      "Collecting mediapipe\n",
      "  Using cached mediapipe-0.8.10-cp39-cp39-win_amd64.whl (48.6 MB)\n",
      "Requirement already satisfied: sklearn in c:\\python39\\lib\\site-packages (0.0)\n",
      "Requirement already satisfied: matplotlib in c:\\python39\\lib\\site-packages (3.5.2)\n",
      "Collecting eel\n",
      "  Using cached Eel-0.14.0-py3-none-any.whl\n",
      "Collecting astunparse>=1.6.0\n",
      "  Using cached astunparse-1.6.3-py2.py3-none-any.whl (12 kB)\n",
      "Collecting opt-einsum>=2.3.2\n",
      "  Using cached opt_einsum-3.3.0-py3-none-any.whl (65 kB)\n",
      "Requirement already satisfied: setuptools in c:\\python39\\lib\\site-packages (from tensorflow==2.8.0) (56.0.0)\n",
      "Collecting tensorflow-io-gcs-filesystem>=0.23.1\n",
      "  Using cached tensorflow_io_gcs_filesystem-0.25.0-cp39-cp39-win_amd64.whl (1.5 MB)\n",
      "Collecting keras<2.9,>=2.8.0rc0\n",
      "  Using cached keras-2.8.0-py2.py3-none-any.whl (1.4 MB)\n",
      "Requirement already satisfied: six>=1.12.0 in c:\\python39\\lib\\site-packages (from tensorflow==2.8.0) (1.16.0)\n",
      "Collecting absl-py>=0.4.0\n",
      "  Using cached absl_py-1.0.0-py3-none-any.whl (126 kB)\n",
      "Collecting wrapt>=1.11.0\n",
      "  Using cached wrapt-1.14.1-cp39-cp39-win_amd64.whl (35 kB)\n",
      "Collecting keras-preprocessing>=1.1.1\n",
      "  Using cached Keras_Preprocessing-1.1.2-py2.py3-none-any.whl (42 kB)\n",
      "Collecting gast>=0.2.1\n",
      "  Using cached gast-0.5.3-py3-none-any.whl (19 kB)\n",
      "Collecting flatbuffers>=1.12\n",
      "  Using cached flatbuffers-2.0-py2.py3-none-any.whl (26 kB)\n",
      "Collecting h5py>=2.9.0\n",
      "  Using cached h5py-3.6.0-cp39-cp39-win_amd64.whl (2.8 MB)\n",
      "Collecting typing-extensions>=3.6.6\n",
      "  Using cached typing_extensions-4.2.0-py3-none-any.whl (24 kB)\n",
      "Requirement already satisfied: protobuf>=3.9.2 in c:\\python39\\lib\\site-packages (from tensorflow==2.8.0) (3.20.1)\n",
      "Collecting google-pasta>=0.1.1\n",
      "  Using cached google_pasta-0.2.0-py3-none-any.whl (57 kB)\n",
      "Collecting termcolor>=1.1.0\n",
      "  Using cached termcolor-1.1.0-py3-none-any.whl\n",
      "Requirement already satisfied: grpcio<2.0,>=1.24.3 in c:\\python39\\lib\\site-packages (from tensorflow==2.8.0) (1.46.0)\n",
      "Collecting tensorboard<2.9,>=2.8\n",
      "  Using cached tensorboard-2.8.0-py3-none-any.whl (5.8 MB)\n",
      "Collecting libclang>=9.0.1\n",
      "  Using cached libclang-14.0.1-py2.py3-none-win_amd64.whl (14.2 MB)\n",
      "Collecting tf-estimator-nightly==2.8.0.dev2021122109\n",
      "  Using cached tf_estimator_nightly-2.8.0.dev2021122109-py2.py3-none-any.whl (462 kB)\n",
      "Requirement already satisfied: numpy>=1.20 in c:\\python39\\lib\\site-packages (from tensorflow==2.8.0) (1.22.3)\n",
      "Requirement already satisfied: wheel<1.0,>=0.23.0 in c:\\python39\\lib\\site-packages (from astunparse>=1.6.0->tensorflow==2.8.0) (0.37.1)\n",
      "Requirement already satisfied: tensorboard-data-server<0.7.0,>=0.6.0 in c:\\python39\\lib\\site-packages (from tensorboard<2.9,>=2.8->tensorflow==2.8.0) (0.6.1)\n",
      "Requirement already satisfied: google-auth-oauthlib<0.5,>=0.4.1 in c:\\python39\\lib\\site-packages (from tensorboard<2.9,>=2.8->tensorflow==2.8.0) (0.4.6)\n",
      "Requirement already satisfied: requests<3,>=2.21.0 in c:\\python39\\lib\\site-packages (from tensorboard<2.9,>=2.8->tensorflow==2.8.0) (2.25.1)\n",
      "Requirement already satisfied: markdown>=2.6.8 in c:\\python39\\lib\\site-packages (from tensorboard<2.9,>=2.8->tensorflow==2.8.0) (3.3.7)\n",
      "Requirement already satisfied: werkzeug>=0.11.15 in c:\\python39\\lib\\site-packages (from tensorboard<2.9,>=2.8->tensorflow==2.8.0) (2.1.2)\n",
      "Requirement already satisfied: google-auth<3,>=1.6.3 in c:\\python39\\lib\\site-packages (from tensorboard<2.9,>=2.8->tensorflow==2.8.0) (2.6.6)\n",
      "Requirement already satisfied: tensorboard-plugin-wit>=1.6.0 in c:\\python39\\lib\\site-packages (from tensorboard<2.9,>=2.8->tensorflow==2.8.0) (1.8.1)\n",
      "Requirement already satisfied: rsa<5,>=3.1.4 in c:\\python39\\lib\\site-packages (from google-auth<3,>=1.6.3->tensorboard<2.9,>=2.8->tensorflow==2.8.0) (4.8)\n",
      "Requirement already satisfied: pyasn1-modules>=0.2.1 in c:\\python39\\lib\\site-packages (from google-auth<3,>=1.6.3->tensorboard<2.9,>=2.8->tensorflow==2.8.0) (0.2.8)\n",
      "Requirement already satisfied: cachetools<6.0,>=2.0.0 in c:\\python39\\lib\\site-packages (from google-auth<3,>=1.6.3->tensorboard<2.9,>=2.8->tensorflow==2.8.0) (5.0.0)\n",
      "Requirement already satisfied: requests-oauthlib>=0.7.0 in c:\\python39\\lib\\site-packages (from google-auth-oauthlib<0.5,>=0.4.1->tensorboard<2.9,>=2.8->tensorflow==2.8.0) (1.3.1)\n",
      "Requirement already satisfied: importlib-metadata>=4.4 in c:\\python39\\lib\\site-packages (from markdown>=2.6.8->tensorboard<2.9,>=2.8->tensorflow==2.8.0) (4.11.3)\n",
      "Requirement already satisfied: zipp>=0.5 in c:\\python39\\lib\\site-packages (from importlib-metadata>=4.4->markdown>=2.6.8->tensorboard<2.9,>=2.8->tensorflow==2.8.0) (3.7.0)\n",
      "Requirement already satisfied: pyasn1<0.5.0,>=0.4.6 in c:\\python39\\lib\\site-packages (from pyasn1-modules>=0.2.1->google-auth<3,>=1.6.3->tensorboard<2.9,>=2.8->tensorflow==2.8.0) (0.4.8)\n",
      "Requirement already satisfied: certifi>=2017.4.17 in c:\\python39\\lib\\site-packages (from requests<3,>=2.21.0->tensorboard<2.9,>=2.8->tensorflow==2.8.0) (2021.5.30)\n",
      "Requirement already satisfied: idna<3,>=2.5 in c:\\python39\\lib\\site-packages (from requests<3,>=2.21.0->tensorboard<2.9,>=2.8->tensorflow==2.8.0) (2.10)\n",
      "Requirement already satisfied: urllib3<1.27,>=1.21.1 in c:\\python39\\lib\\site-packages (from requests<3,>=2.21.0->tensorboard<2.9,>=2.8->tensorflow==2.8.0) (1.26.5)\n",
      "Requirement already satisfied: chardet<5,>=3.0.2 in c:\\python39\\lib\\site-packages (from requests<3,>=2.21.0->tensorboard<2.9,>=2.8->tensorflow==2.8.0) (4.0.0)\n",
      "Requirement already satisfied: oauthlib>=3.0.0 in c:\\python39\\lib\\site-packages (from requests-oauthlib>=0.7.0->google-auth-oauthlib<0.5,>=0.4.1->tensorboard<2.9,>=2.8->tensorflow==2.8.0) (3.2.0)\n",
      "Requirement already satisfied: pyparsing in c:\\python39\\lib\\site-packages (from eel) (3.0.8)\n",
      "Collecting whichcraft\n",
      "  Using cached whichcraft-0.6.1-py2.py3-none-any.whl (5.2 kB)\n",
      "Requirement already satisfied: bottle in c:\\python39\\lib\\site-packages (from eel) (0.12.19)\n",
      "Collecting bottle-websocket\n",
      "  Using cached bottle_websocket-0.2.9-py3-none-any.whl\n",
      "Requirement already satisfied: future in c:\\python39\\lib\\site-packages (from eel) (0.18.2)\n",
      "Requirement already satisfied: cycler>=0.10 in c:\\python39\\lib\\site-packages (from matplotlib) (0.11.0)\n",
      "Requirement already satisfied: packaging>=20.0 in c:\\python39\\lib\\site-packages (from matplotlib) (21.3)\n",
      "Requirement already satisfied: python-dateutil>=2.7 in c:\\users\\kashod cagnolatti\\appdata\\roaming\\python\\python39\\site-packages (from matplotlib) (2.8.2)\n",
      "Requirement already satisfied: pillow>=6.2.0 in c:\\python39\\lib\\site-packages (from matplotlib) (9.1.0)\n",
      "Requirement already satisfied: kiwisolver>=1.0.1 in c:\\python39\\lib\\site-packages (from matplotlib) (1.4.2)\n",
      "Requirement already satisfied: fonttools>=4.22.0 in c:\\python39\\lib\\site-packages (from matplotlib) (4.33.3)\n",
      "Collecting attrs>=19.1.0\n",
      "  Using cached attrs-21.4.0-py2.py3-none-any.whl (60 kB)\n",
      "Collecting opencv-contrib-python\n",
      "  Using cached opencv_contrib_python-4.5.5.64-cp36-abi3-win_amd64.whl (42.2 MB)\n",
      "Requirement already satisfied: scikit-learn in c:\\python39\\lib\\site-packages (from sklearn) (1.0.2)\n",
      "Requirement already satisfied: gevent-websocket in c:\\python39\\lib\\site-packages (from bottle-websocket->eel) (0.10.1)\n",
      "Requirement already satisfied: gevent in c:\\python39\\lib\\site-packages (from gevent-websocket->bottle-websocket->eel) (21.12.0)\n",
      "Requirement already satisfied: zope.interface in c:\\python39\\lib\\site-packages (from gevent->gevent-websocket->bottle-websocket->eel) (5.4.0)\n",
      "Requirement already satisfied: greenlet<2.0,>=1.1.0 in c:\\python39\\lib\\site-packages (from gevent->gevent-websocket->bottle-websocket->eel) (1.1.2)\n",
      "Requirement already satisfied: zope.event in c:\\python39\\lib\\site-packages (from gevent->gevent-websocket->bottle-websocket->eel) (4.5.0)\n",
      "Requirement already satisfied: cffi>=1.12.2 in c:\\python39\\lib\\site-packages (from gevent->gevent-websocket->bottle-websocket->eel) (1.15.0)\n",
      "Requirement already satisfied: pycparser in c:\\python39\\lib\\site-packages (from cffi>=1.12.2->gevent->gevent-websocket->bottle-websocket->eel) (2.21)\n",
      "Requirement already satisfied: threadpoolctl>=2.0.0 in c:\\python39\\lib\\site-packages (from scikit-learn->sklearn) (3.1.0)\n",
      "Requirement already satisfied: scipy>=1.1.0 in c:\\python39\\lib\\site-packages (from scikit-learn->sklearn) (1.8.0)\n",
      "Requirement already satisfied: joblib>=0.11 in c:\\python39\\lib\\site-packages (from scikit-learn->sklearn) (1.1.0)\n",
      "Installing collected packages: absl-py, wrapt, whichcraft, typing-extensions, tf-estimator-nightly, termcolor, tensorflow-io-gcs-filesystem, tensorboard, opt-einsum, opencv-contrib-python, libclang, keras-preprocessing, keras, h5py, google-pasta, gast, flatbuffers, bottle-websocket, attrs, astunparse, tensorflow-gpu, tensorflow, mediapipe, eel\n"
     ]
    },
    {
     "name": "stderr",
     "output_type": "stream",
     "text": [
      "  WARNING: Failed to write executable - trying to use .deleteme logic\n",
      "ERROR: Could not install packages due to an EnvironmentError: [WinError 2] The system cannot find the file specified: 'c:\\\\python39\\\\Scripts\\\\tensorboard.exe' -> 'c:\\\\python39\\\\Scripts\\\\tensorboard.exe.deleteme'\n",
      "\n"
     ]
    }
   ],
   "source": [
    "!pip install tensorflow==2.8.0 tensorflow-gpu==2.8.0 opencv-python mediapipe sklearn matplotlib eel"
   ]
  }
 ],
 "metadata": {
  "kernelspec": {
   "display_name": "ASLTRenv",
   "language": "python",
   "name": "asltrenv"
  },
  "language_info": {
   "codemirror_mode": {
    "name": "ipython",
    "version": 3
   },
   "file_extension": ".py",
   "mimetype": "text/x-python",
   "name": "python",
   "nbconvert_exporter": "python",
   "pygments_lexer": "ipython3",
   "version": "3.9.5"
  }
 },
 "nbformat": 4,
 "nbformat_minor": 5
}
